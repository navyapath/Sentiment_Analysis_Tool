{
 "cells": [
  {
   "metadata": {},
   "cell_type": "markdown",
   "source": [
    "# This is a sample Jupyter Notebook\n",
    "\n",
    "Below is an example of a code cell. \n",
    "Put your cursor into the cell and press Shift+Enter to execute it and select the next one, or click 'Run Cell' button.\n",
    "\n",
    "Press Double Shift to search everywhere for classes, files, tool windows, actions, and settings.\n",
    "\n",
    "To learn more about Jupyter Notebooks in PyCharm, see [help](https://www.jetbrains.com/help/pycharm/ipython-notebook-support.html).\n",
    "For an overview of PyCharm, go to Help -> Learn IDE features or refer to [our documentation](https://www.jetbrains.com/help/pycharm/getting-started.html)."
   ],
   "id": "8a77807f92f26ee"
  },
  {
   "metadata": {
    "ExecuteTime": {
     "end_time": "2025-05-04T13:25:28.601080Z",
     "start_time": "2025-05-04T13:25:01.107851Z"
    }
   },
   "cell_type": "code",
   "source": [
    "from textblob import TextBlob\n",
    "def get_sentiment(text):\n",
    "    blob=TextBlob(text)\n",
    "    polarity=blob.sentiment.polarity\n",
    "    if polarity>0:\n",
    "        sentiment=\"Positive\"\n",
    "    elif polarity<0:\n",
    "        sentiment=\"Negative\"\n",
    "    else:\n",
    "        sentiment=\"Neutral\"\n",
    "    return sentiment,polarity\n",
    "def main():\n",
    "    print(\"Welcome to the Sentiment Analysis Tool!\")\n",
    "    print(\"Type your text for sentiment analysis:\")\n",
    "    while True:\n",
    "        user_input=input(\"\\nYour text below(or type exit to quit): \")\n",
    "        if user_input.lower() == \"exit\":\n",
    "            print(\"Thank you for using Sentiment Analysis Tool!\")\n",
    "            break\n",
    "        sentiment,score=get_sentiment(user_input)\n",
    "        print(f\"Sentiment: {sentiment}\")\n",
    "if __name__ == \"__main__\":\n",
    "    main()\n",
    "\n",
    "\n"
   ],
   "id": "fbc121e30a2defb3",
   "outputs": [
    {
     "name": "stdout",
     "output_type": "stream",
     "text": [
      "Welcome to the Sentiment Analysis Tool!\n",
      "Type your text for sentiment analysis:\n",
      "Sentiment: Negative\n",
      "Sentiment: Negative\n",
      "Thank you for using Sentiment Analysis Tool!\n"
     ]
    }
   ],
   "execution_count": 1
  }
 ],
 "metadata": {
  "kernelspec": {
   "display_name": "Python 3",
   "language": "python",
   "name": "python3"
  },
  "language_info": {
   "codemirror_mode": {
    "name": "ipython",
    "version": 2
   },
   "file_extension": ".py",
   "mimetype": "text/x-python",
   "name": "python",
   "nbconvert_exporter": "python",
   "pygments_lexer": "ipython2",
   "version": "2.7.6"
  }
 },
 "nbformat": 4,
 "nbformat_minor": 5
}
